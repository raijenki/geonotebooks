{
 "cells": [
  {
   "cell_type": "markdown",
   "metadata": {},
   "source": [
    "# Description and Prerequisites\n",
    "This script does color quantization on ternary data (from 256 colors to 27) via K-Means.\n",
    "\n",
    "**Prerequisites:**\n",
    "- Python 3.x\n",
    "- OpenCV (pip3 install opencv)\n",
    "\n"
   ]
  },
  {
   "cell_type": "markdown",
   "metadata": {},
   "source": [
    "# Usage\n",
    "## Detecção de Alinhamentos\n",
    "In order to color quantizate, use a ternary image file.\n",
    "\n",
    "`var = kmeans(filename.tif, groups, iterations)`, whe nome_do_arquivo.tif é o mapa ternário, grupos é o número de classificações a serem tomadas por base e iterações é o número de vezes que o algoritmo rodará.\n",
    "\n",
    "## Save tiff file\n",
    "After the clustering, save the file through the command:\n",
    "`save('nomedoarquivo', var)`\n",
    "\n",
    "## Show\n",
    "To show results, use\n",
    "`show(var)`"
   ]
  },
  {
   "cell_type": "markdown",
   "metadata": {},
   "source": [
    "# Bibliotecas e Funções Auxiliares"
   ]
  },
  {
   "cell_type": "code",
   "execution_count": 17,
   "metadata": {},
   "outputs": [],
   "source": [
    "import numpy as np\n",
    "import cv2\n",
    "from matplotlib import pyplot as plt\n",
    "\n",
    "def kmeans(file, groups, iteract):\n",
    "    image = cv2.imread(file)\n",
    "    z = np.float32(image.reshape((-1,3)))\n",
    "    criteria = (cv2.TERM_CRITERIA_EPS + cv2.TERM_CRITERIA_MAX_ITER, 10, 1.0)\n",
    "    ret, label, center=cv2.kmeans(z, groups, None, criteria, iteract, cv2.KMEANS_RANDOM_CENTERS)\n",
    "    center = np.uint8(center)\n",
    "    res = center[label.flatten()]\n",
    "    res2 = res.reshape((image.shape))\n",
    "    return res\n",
    "\n",
    "def show(variable):\n",
    "    plt.imshow(variable)\n",
    "    plt.xticks([]), plt.yticks([])\n",
    "    plt.show()\n",
    "\n",
    "def save(filename, variable):\n",
    "    cv2.imwrite(filename, variable)\n"
   ]
  },
  {
   "cell_type": "code",
   "execution_count": 18,
   "metadata": {},
   "outputs": [
    {
     "data": {
      "image/png": "[encoded data removed]",
      "text/plain": [
       "<matplotlib.figure.Figure at 0x616feb8>"
      ]
     },
     "metadata": {},
     "output_type": "display_data"
    }
   ],
   "source": []
  },
  {
   "cell_type": "code",
   "execution_count": null,
   "metadata": {},
   "outputs": [],
   "source": []
  }
 ],
 "metadata": {
  "kernelspec": {
   "display_name": "Python 3",
   "language": "python",
   "name": "python3"
  },
  "language_info": {
   "codemirror_mode": {
    "name": "ipython",
    "version": 3
   },
   "file_extension": ".py",
   "mimetype": "text/x-python",
   "name": "python",
   "nbconvert_exporter": "python",
   "pygments_lexer": "ipython3",
   "version": "3.6.5"
  }
 },
 "nbformat": 4,
 "nbformat_minor": 4
}
